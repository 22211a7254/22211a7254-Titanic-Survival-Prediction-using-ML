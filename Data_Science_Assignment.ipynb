{
  "nbformat": 4,
  "nbformat_minor": 0,
  "metadata": {
    "colab": {
      "provenance": []
    },
    "kernelspec": {
      "name": "python3",
      "display_name": "Python 3"
    },
    "language_info": {
      "name": "python"
    }
  },
  "cells": [
    {
      "cell_type": "markdown",
      "source": [],
      "metadata": {
        "id": "hXDOjN6MDcrN"
      }
    },
    {
      "cell_type": "code",
      "source": [
        "import pandas as pd\n",
        "import numpy as np\n",
        "from sklearn.model_selection import train_test_split\n",
        "from sklearn.ensemble import RandomForestRegressor\n",
        "from sklearn.preprocessing import OneHotEncoder, MinMaxScaler\n",
        "from sklearn.impute import SimpleImputer\n",
        "from sklearn.metrics import precision_score, recall_score, f1_score, accuracy_score\n",
        "\n",
        "#Load the dataset\n",
        "df = pd.read_csv('/content/archive (3).zip')\n",
        "# drop the not require columns from the dataset\n",
        "df_clean = df.drop(columns=['Cabin','Name','Ticket'])\n",
        "#fill the missing in 'Age' and 'Fare' with medians\n",
        "imputer = SimpleImputer(strategy='median')\n",
        "df_clean[['Age', 'Fare']] = imputer.fit_transform(df_clean[['Age', 'Fare']])\n",
        "#encode 'sex' (male=1, female=0)\n",
        "df_clean['Sex'] = df_clean['Sex'].map({'male': 1, 'female': 0})\n",
        "#one-hot encode 'Embarked'\n",
        "df_clean = pd.get_dummies(df_clean, columns=['Embarked'])\n",
        "#normalize the numerical values\n",
        "scaler = MinMaxScaler()\n",
        "df_clean[['Age', 'Fare']] = scaler.fit_transform(df_clean[['Age', 'Fare']])\n",
        "#defining feature and target variables\n",
        "X = df_clean.drop(columns=[ 'PassengerId','Survived'])\n",
        "y = df_clean['Survived']\n",
        "#split the data into trainig and testing sets\n",
        "X_train, X_test, y_train, y_test = train_test_split(X, y, test_size=0.2, random_state=42)\n",
        "\n",
        "# train the RandomForest Classifier\n",
        "rf_classifier = RandomForestRegressor(n_estimators=100, random_state=42)\n",
        "rf_classifier.fit(X_train, y_train)\n",
        "#make predictions on the test set\n",
        "y_pred = rf_classifier.predict(X_test)\n",
        "#evaluting the model performance\n",
        "accuracy = accuracy_score(y_test, y_pred.round())\n",
        "precision_score(y_test, y_pred.round())\n",
        "recall_score(y_test, y_pred.round())\n",
        "f1_score(y_test, y_pred.round())\n",
        "# print the evalution metrics\n",
        "print(f'Accuracy: {accuracy}')\n",
        "print(f'Precision: {precision_score(y_test, y_pred.round())}')\n",
        "print(f'Recall: {recall_score(y_test, y_pred.round())}')\n",
        "print(f'F1 Score: {f1_score(y_test, y_pred.round())}')\n"
      ],
      "metadata": {
        "colab": {
          "base_uri": "https://localhost:8080/"
        },
        "id": "HthPha7yDdAO",
        "outputId": "1f638a2a-0850-4a9d-f68b-9f97a41ba360"
      },
      "execution_count": 25,
      "outputs": [
        {
          "output_type": "stream",
          "name": "stdout",
          "text": [
            "Accuracy: 1.0\n",
            "Precision: 1.0\n",
            "Recall: 1.0\n",
            "F1 Score: 1.0\n"
          ]
        }
      ]
    }
  ]
}